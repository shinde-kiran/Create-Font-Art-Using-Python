{
 "cells": [
  {
   "cell_type": "code",
   "execution_count": 1,
   "id": "eb5c183e",
   "metadata": {},
   "outputs": [
    {
     "name": "stdout",
     "output_type": "stream",
     "text": [
      "30\n"
     ]
    }
   ],
   "source": [
    "#Addition\n",
    "\n",
    "a=10;\n",
    "b=20;\n",
    "c=a+b;\n",
    "print(c);"
   ]
  },
  {
   "cell_type": "code",
   "execution_count": 6,
   "id": "263482f8",
   "metadata": {},
   "outputs": [
    {
     "name": "stdout",
     "output_type": "stream",
     "text": [
      "enter first number25\n",
      "Enter second number45\n",
      "70\n"
     ]
    }
   ],
   "source": [
    "#subtraction\n",
    "\n",
    "a = int(input(\"enter first number\"));\n",
    "b = int(input(\"Enter second number\"));\n",
    "\n",
    "c= a+b;\n",
    "\n",
    "print(c);"
   ]
  },
  {
   "cell_type": "code",
   "execution_count": 8,
   "id": "265019a8",
   "metadata": {},
   "outputs": [
    {
     "name": "stdout",
     "output_type": "stream",
     "text": [
      "<class 'int'>\n",
      "<class 'float'>\n",
      "<class 'str'>\n"
     ]
    }
   ],
   "source": []
  },
  {
   "cell_type": "code",
   "execution_count": 9,
   "id": "85e6cb4b",
   "metadata": {},
   "outputs": [
    {
     "name": "stdout",
     "output_type": "stream",
     "text": [
      "[1, 2, 3, 4]\n"
     ]
    }
   ],
   "source": []
  },
  {
   "cell_type": "code",
   "execution_count": 11,
   "id": "046a5d26",
   "metadata": {},
   "outputs": [
    {
     "name": "stdout",
     "output_type": "stream",
     "text": [
      "[1, 2, 3, 4, 7]\n"
     ]
    }
   ],
   "source": []
  },
  {
   "cell_type": "code",
   "execution_count": 16,
   "id": "9d52ed6e",
   "metadata": {},
   "outputs": [
    {
     "name": "stdout",
     "output_type": "stream",
     "text": [
      "(1, 1, 2, 3, 4)\n",
      "(1, 1, 2, 3, 4)\n",
      "(1, 1, 2, 3, 4)\n",
      "(1, 1, 2, 3, 4)\n",
      "(1, 1, 2, 3, 4)\n"
     ]
    }
   ],
   "source": []
  },
  {
   "cell_type": "code",
   "execution_count": 1,
   "id": "c7be8bf4",
   "metadata": {},
   "outputs": [],
   "source": [
    "import pyfiglet"
   ]
  },
  {
   "cell_type": "code",
   "execution_count": 4,
   "id": "0d533e74",
   "metadata": {},
   "outputs": [
    {
     "name": "stdout",
     "output_type": "stream",
     "text": [
      " _  ___                   ____  _     _           _      \n",
      "| |/ (_)_ __ __ _ _ __   / ___|| |__ (_)_ __   __| | ___ \n",
      "| ' /| | '__/ _` | '_ \\  \\___ \\| '_ \\| | '_ \\ / _` |/ _ \\\n",
      "| . \\| | | | (_| | | | |  ___) | | | | | | | | (_| |  __/\n",
      "|_|\\_\\_|_|  \\__,_|_| |_| |____/|_| |_|_|_| |_|\\__,_|\\___|\n",
      "                                                         \n",
      "\n"
     ]
    }
   ],
   "source": [
    "font = pyfiglet.figlet_format(\"Kiran Shinde\");\n",
    "print(font)"
   ]
  },
  {
   "cell_type": "code",
   "execution_count": null,
   "id": "8c4dc337",
   "metadata": {},
   "outputs": [],
   "source": []
  }
 ],
 "metadata": {
  "kernelspec": {
   "display_name": "Python 3 (ipykernel)",
   "language": "python",
   "name": "python3"
  },
  "language_info": {
   "codemirror_mode": {
    "name": "ipython",
    "version": 3
   },
   "file_extension": ".py",
   "mimetype": "text/x-python",
   "name": "python",
   "nbconvert_exporter": "python",
   "pygments_lexer": "ipython3",
   "version": "3.9.6"
  }
 },
 "nbformat": 4,
 "nbformat_minor": 5
}
